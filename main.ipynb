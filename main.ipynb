{
 "cells": [
  {
   "cell_type": "code",
   "execution_count": 1,
   "metadata": {},
   "outputs": [
    {
     "name": "stdout",
     "output_type": "stream",
     "text": [
      "Requirement already satisfied: scikit-learn in /Users/admin/opt/anaconda3/lib/python3.8/site-packages (1.2.2)\n",
      "Requirement already satisfied: numpy>=1.17.3 in /Users/admin/opt/anaconda3/lib/python3.8/site-packages (from scikit-learn) (1.19.5)\n",
      "Requirement already satisfied: scipy>=1.3.2 in /Users/admin/opt/anaconda3/lib/python3.8/site-packages (from scikit-learn) (1.10.0)\n",
      "Requirement already satisfied: joblib>=1.1.1 in /Users/admin/opt/anaconda3/lib/python3.8/site-packages (from scikit-learn) (1.2.0)\n",
      "Requirement already satisfied: threadpoolctl>=2.0.0 in /Users/admin/opt/anaconda3/lib/python3.8/site-packages (from scikit-learn) (3.1.0)\n",
      "Note: you may need to restart the kernel to use updated packages.\n"
     ]
    }
   ],
   "source": [
    "pip install --upgrade scikit-learn"
   ]
  },
  {
   "cell_type": "code",
   "execution_count": 2,
   "metadata": {},
   "outputs": [],
   "source": [
    "%load_ext autoreload\n",
    "%autoreload 2"
   ]
  },
  {
   "cell_type": "code",
   "execution_count": 3,
   "metadata": {},
   "outputs": [],
   "source": [
    "import numpy as np\n",
    "import pandas as pd\n",
    "from sklearn.model_selection import train_test_split\n",
    "import sys\n",
    "import matplotlib.pyplot as plt\n",
    "import torch\n",
    "from sklearn import datasets\n",
    "from sklearn.linear_model import LogisticRegression\n",
    "from sklearn.manifold import TSNE\n",
    "import numpy as np\n",
    "from sklearn.preprocessing import StandardScaler\n",
    "from torch.optim import Adam\n",
    "from torch.utils.data import DataLoader\n",
    "from sklearn.metrics import (ConfusionMatrixDisplay, classification_report, confusion_matrix)\n",
    "sys.path.append(\"../\")\n",
    "from loss import NTXent\n",
    "from model import SCARF\n",
    "from sklearn.utils import resample\n",
    "from dataset import ExampleDataset\n",
    "from utils import dataset_embeddings, fix_seed, train_epoch\n",
    "seed = 1234\n",
    "fix_seed(seed)"
   ]
  },
  {
   "cell_type": "markdown",
   "metadata": {},
   "source": [
    "# Data"
   ]
  },
  {
   "cell_type": "code",
   "execution_count": 5,
   "metadata": {},
   "outputs": [
    {
     "name": "stderr",
     "output_type": "stream",
     "text": [
      "/var/folders/2w/18__62n56y74_dvz41zy8bg40000gn/T/ipykernel_42537/2306050883.py:8: PerformanceWarning: DataFrame is highly fragmented.  This is usually the result of calling `frame.insert` many times, which has poor performance.  Consider joining all columns at once using pd.concat(axis=1) instead. To get a de-fragmented frame, use `newframe = frame.copy()`\n",
      "  df['Age'] = df['YY1A1'] - df['birthdate_y']\n"
     ]
    }
   ],
   "source": [
    "df = pd.read_csv('FM.csv')\n",
    "#df.head()\n",
    "#print('column name', df.columns)\n",
    "for col in df.columns:\n",
    "    if df[col].dtype == 'object':\n",
    "        df[col] = pd.to_numeric(df[col], errors='coerce')\n",
    "        df[col] = df[col].astype(float) \n",
    "df['Age'] = df['YY1A1'] - df['birthdate_y']"
   ]
  },
  {
   "cell_type": "code",
   "execution_count": 7,
   "metadata": {},
   "outputs": [],
   "source": [
    "FBG_Index = df.columns.get_loc('FBG') #355\n",
    "AST_main_Index = df.columns.get_loc('AST_main')  #383\n",
    "data = df.iloc[:, FBG_Index:AST_main_Index+1]\n",
    "data[['Age','Sex', 'FH_DUTCH_Score_final','FH_DUTCH_Score_final_Code']] = df[['Age','Sex', 'FH_DUTCH_Score_final','FH_DUTCH_Score_final_Code']]"
   ]
  },
  {
   "cell_type": "code",
   "execution_count": 8,
   "metadata": {},
   "outputs": [
    {
     "name": "stdout",
     "output_type": "stream",
     "text": [
      "null_percentages FBG                           0.207361\n",
      "HbA1c                         9.383100\n",
      "TotalCholesterol              0.414723\n",
      "Triglycerides                 0.000000\n",
      "HDL_Cholesterol               0.000000\n",
      "LDL_Cholesterol               0.051840\n",
      "RBC                           6.428201\n",
      "Hb                            6.220840\n",
      "HCT                           6.376361\n",
      "WBC                           6.428201\n",
      "MCV                           6.376361\n",
      "MCH                           6.480041\n",
      "Neutrophil                   10.108865\n",
      "MCHC                         58.890617\n",
      "Lymphocyte                    8.035251\n",
      "RDW_CV                        7.931571\n",
      "MXD                          23.276309\n",
      "RDW_SD                       74.805599\n",
      "Neutrophils                  69.051322\n",
      "Platelet                      8.346293\n",
      "Lymphocytes                  70.710213\n",
      "P_LCR                        75.427683\n",
      "MPV                          67.081389\n",
      "PDW                          12.078797\n",
      "MCD                          82.011405\n",
      "MXD1                         74.598237\n",
      "TSH                          89.994816\n",
      "ALT_main                     27.475376\n",
      "AST_main                     27.838258\n",
      "Age                           7.568688\n",
      "Sex                           0.000000\n",
      "FH_DUTCH_Score_final          0.000000\n",
      "FH_DUTCH_Score_final_Code     3.058580\n",
      "dtype: float64\n"
     ]
    }
   ],
   "source": [
    "null_percentages = data.isnull().sum() / len(data) * 100\n",
    "print('null_percentages', null_percentages)\n",
    "cols_to_drop = null_percentages[null_percentages > 10].index.tolist()\n",
    "data.drop(cols_to_drop, axis=1, inplace=True)"
   ]
  },
  {
   "cell_type": "code",
   "execution_count": 9,
   "metadata": {},
   "outputs": [
    {
     "name": "stdout",
     "output_type": "stream",
     "text": [
      "FH_DUTCH_Score_final_Code\n",
      "2.0    950\n",
      "1.0    700\n",
      "3.0    148\n",
      "4.0     72\n",
      "Name: count, dtype: int64\n"
     ]
    }
   ],
   "source": [
    "print(data['FH_DUTCH_Score_final_Code'].value_counts())"
   ]
  },
  {
   "cell_type": "code",
   "execution_count": 10,
   "metadata": {},
   "outputs": [],
   "source": [
    "def my_fillna(df):\n",
    "    conditions = [\n",
    "        df['FH_DUTCH_Score_final'] > 8,\n",
    "        (df['FH_DUTCH_Score_final'] > 5) & (df['FH_DUTCH_Score_final'] <= 8),\n",
    "        (df['FH_DUTCH_Score_final'] >= 3) & (df['FH_DUTCH_Score_final'] <= 5),\n",
    "        df['FH_DUTCH_Score_final'] < 3\n",
    "    ]\n",
    "    choices = [4, 3, 2, 1]\n",
    "    df['FH_DUTCH_Score_final_Code'] = df['FH_DUTCH_Score_final_Code'].fillna(pd.Series(np.select(conditions, choices)))\n",
    "    return df"
   ]
  },
  {
   "cell_type": "code",
   "execution_count": 11,
   "metadata": {},
   "outputs": [
    {
     "data": {
      "text/plain": [
       "0"
      ]
     },
     "execution_count": 11,
     "metadata": {},
     "output_type": "execute_result"
    }
   ],
   "source": [
    "#data['FH_DUTCH_Score_final_Code'].fillna()\n",
    "data = my_fillna(data)\n",
    "data['FH_DUTCH_Score_final_Code'].isnull().sum()"
   ]
  },
  {
   "cell_type": "code",
   "execution_count": 12,
   "metadata": {},
   "outputs": [
    {
     "name": "stdout",
     "output_type": "stream",
     "text": [
      "FH_DUTCH_Score_final_Code\n",
      "2.0    966\n",
      "1.0    743\n",
      "3.0    148\n",
      "4.0     72\n",
      "Name: count, dtype: int64\n"
     ]
    },
    {
     "data": {
      "text/plain": [
       "<Axes: ylabel='Type'>"
      ]
     },
     "execution_count": 12,
     "metadata": {},
     "output_type": "execute_result"
    },
    {
     "data": {
      "image/png": "[encoded data removed]",
      "text/plain": [
       "<Figure size 640x480 with 1 Axes>"
      ]
     },
     "metadata": {},
     "output_type": "display_data"
    }
   ],
   "source": [
    "print(data[\"FH_DUTCH_Score_final_Code\"].value_counts())\n",
    "data.groupby('FH_DUTCH_Score_final_Code').size().plot(kind='pie',\n",
    "                                       y = \"FH_DUTCH_Score_final_Code\",\n",
    "                                       label = \"Type\",\n",
    "                                       autopct='%1.1f%%')"
   ]
  },
  {
   "cell_type": "code",
   "execution_count": 13,
   "metadata": {},
   "outputs": [],
   "source": [
    "data.drop(\"FH_DUTCH_Score_final_Code\", axis = 1, inplace = True)"
   ]
  },
  {
   "cell_type": "code",
   "execution_count": 14,
   "metadata": {},
   "outputs": [
    {
     "name": "stdout",
     "output_type": "stream",
     "text": [
      "FBG                     0.0\n",
      "HbA1c                   0.0\n",
      "TotalCholesterol        0.0\n",
      "Triglycerides           0.0\n",
      "HDL_Cholesterol         0.0\n",
      "LDL_Cholesterol         0.0\n",
      "RBC                     0.0\n",
      "Hb                      0.0\n",
      "HCT                     0.0\n",
      "WBC                     0.0\n",
      "MCV                     0.0\n",
      "MCH                     0.0\n",
      "Lymphocyte              0.0\n",
      "RDW_CV                  0.0\n",
      "Platelet                0.0\n",
      "Age                     0.0\n",
      "Sex                     0.0\n",
      "FH_DUTCH_Score_final    0.0\n",
      "dtype: float64\n"
     ]
    }
   ],
   "source": [
    "data.fillna(df.median(), inplace = True)\n",
    "#data.dropna(axis = 0, inplace = True)\n",
    "data.shape\n",
    "print(data.isnull().sum() / len(data) * 100)"
   ]
  },
  {
   "cell_type": "code",
   "execution_count": 15,
   "metadata": {},
   "outputs": [],
   "source": [
    "data[\"FH_DUTCH_Score_final\"] = [0 if i<=5 else 1 for i in data[\"FH_DUTCH_Score_final\"]]"
   ]
  },
  {
   "cell_type": "code",
   "execution_count": 16,
   "metadata": {},
   "outputs": [],
   "source": [
    "target = data[\"FH_DUTCH_Score_final\"]\n",
    "data.drop(\"FH_DUTCH_Score_final\", axis = 1, inplace = True)\n",
    "\n",
    "train_data, test_data, train_target, test_target = train_test_split(\n",
    "    data, \n",
    "    target, \n",
    "    test_size=0.2, \n",
    "    stratify=target, \n",
    "    random_state=seed,\n",
    ")"
   ]
  },
  {
   "cell_type": "code",
   "execution_count": 17,
   "metadata": {},
   "outputs": [
    {
     "name": "stdout",
     "output_type": "stream",
     "text": [
      "(176, 18)\n",
      "(1367, 18)\n"
     ]
    }
   ],
   "source": [
    "Patients = pd.concat([train_data[train_target== 1],train_target[train_target== 1]], axis =1)\n",
    "Healthy  = pd.concat([train_data[train_target== 0],train_target[train_target== 0]], axis =1)\n",
    "print(Patients.shape)\n",
    "print(Healthy.shape)"
   ]
  },
  {
   "cell_type": "code",
   "execution_count": 18,
   "metadata": {},
   "outputs": [
    {
     "name": "stdout",
     "output_type": "stream",
     "text": [
      "(1367, 18)\n"
     ]
    }
   ],
   "source": [
    "Patients_upsample = resample(Patients,\n",
    "             replace=True,\n",
    "             n_samples=len(Healthy),\n",
    "             random_state=42)\n",
    "\n",
    "print(Patients_upsample.shape)\n",
    "train_data = pd.concat([Patients_upsample, Healthy])\n",
    "train_target = train_data[\"FH_DUTCH_Score_final\"]\n",
    "train_data.drop(\"FH_DUTCH_Score_final\", axis = 1, inplace = True)"
   ]
  },
  {
   "cell_type": "code",
   "execution_count": 19,
   "metadata": {},
   "outputs": [
    {
     "name": "stdout",
     "output_type": "stream",
     "text": [
      "(44, 18)\n",
      "(342, 18)\n"
     ]
    }
   ],
   "source": [
    "Patients_test = pd.concat([test_data[test_target== 1],test_target[test_target== 1]], axis =1)\n",
    "Healthy_test  = pd.concat([test_data[test_target== 0],test_target[test_target== 0]], axis =1)\n",
    "print(Patients_test.shape)\n",
    "print(Healthy_test.shape)\n"
   ]
  },
  {
   "cell_type": "code",
   "execution_count": 20,
   "metadata": {},
   "outputs": [
    {
     "name": "stdout",
     "output_type": "stream",
     "text": [
      "(342, 18)\n"
     ]
    }
   ],
   "source": [
    "Patients_upsample_test = resample(Patients_test,\n",
    "             replace=True,\n",
    "             n_samples=len(Healthy_test),\n",
    "             random_state=42)\n",
    "\n",
    "print(Patients_upsample_test.shape)\n"
   ]
  },
  {
   "cell_type": "code",
   "execution_count": 21,
   "metadata": {},
   "outputs": [],
   "source": [
    "test_data = pd.concat([Patients_upsample_test, Healthy_test])\n",
    "test_target = test_data[\"FH_DUTCH_Score_final\"]\n",
    "test_data.drop(\"FH_DUTCH_Score_final\", axis = 1, inplace = True)"
   ]
  },
  {
   "cell_type": "code",
   "execution_count": 22,
   "metadata": {},
   "outputs": [],
   "source": [
    "scaler = StandardScaler()\n",
    "train_data = pd.DataFrame(scaler.fit_transform(train_data), columns=train_data.columns)\n",
    "test_data = pd.DataFrame(scaler.transform(test_data), columns=test_data.columns)"
   ]
  },
  {
   "cell_type": "code",
   "execution_count": 23,
   "metadata": {},
   "outputs": [
    {
     "name": "stdout",
     "output_type": "stream",
     "text": [
      "Train set: (2734, 17)\n",
      "Test set: (684, 17)\n"
     ]
    }
   ],
   "source": [
    "# to torch dataset\n",
    "train_ds = ExampleDataset(\n",
    "    train_data.to_numpy(), \n",
    "    train_target.to_numpy(), \n",
    "    columns=train_data.columns\n",
    ")\n",
    "test_ds = ExampleDataset(\n",
    "    test_data.to_numpy(), \n",
    "    test_data.to_numpy(), \n",
    "    columns=test_data.columns\n",
    ")\n",
    "\n",
    "print(f\"Train set: {train_ds.shape}\")\n",
    "print(f\"Test set: {test_ds.shape}\")\n",
    "#train_ds.to_dataframe().head()"
   ]
  },
  {
   "cell_type": "markdown",
   "metadata": {},
   "source": [
    "# Training"
   ]
  },
  {
   "cell_type": "code",
   "execution_count": null,
   "metadata": {},
   "outputs": [
    {
     "data": {
      "application/vnd.jupyter.widget-view+json": {
       "model_id": "4efc37c9efb14aafa5a4a8c3ce1eb333",
       "version_major": 2,
       "version_minor": 0
      },
      "text/plain": [
       "Epoch 1:   0%|          | 0/22 [00:00<?, ?it/s]"
      ]
     },
     "metadata": {},
     "output_type": "display_data"
    }
   ],
   "source": [
    "batch_size = 128\n",
    "epochs = 100\n",
    "device = torch.device(\"cuda\" if torch.cuda.is_available() else \"cpu\")\n",
    "\n",
    "train_loader = DataLoader(train_ds, batch_size=batch_size, shuffle=True)\n",
    "\n",
    "model = SCARF(\n",
    "    input_dim=train_ds.shape[1], \n",
    "    emb_dim=8,\n",
    "    corruption_rate=0.6,\n",
    ").to(device)\n",
    "optimizer = Adam(model.parameters(), lr=0.01)\n",
    "ntxent_loss = NTXent()\n",
    "\n",
    "loss_history = []\n",
    "\n",
    "for epoch in range(1, epochs + 1):\n",
    "    epoch_loss = train_epoch(model, ntxent_loss, train_loader, optimizer, device, epoch)\n",
    "    loss_history.append(epoch_loss)\n"
   ]
  },
  {
   "cell_type": "code",
   "execution_count": null,
   "metadata": {},
   "outputs": [],
   "source": [
    "fig, ax = plt.subplots(figsize=(16, 8))\n",
    "ax.plot(loss_history)\n",
    "ax.set_xlabel(\"epoch\")\n",
    "ax.set_ylabel(\"loss\")"
   ]
  },
  {
   "cell_type": "markdown",
   "metadata": {},
   "source": [
    "# Evaluate embeddings"
   ]
  },
  {
   "cell_type": "code",
   "execution_count": null,
   "metadata": {},
   "outputs": [],
   "source": [
    "train_loader = DataLoader(train_ds, batch_size=batch_size, shuffle=False)\n",
    "test_loader = DataLoader(test_ds, batch_size=batch_size, shuffle=False)\n",
    "\n",
    "# get embeddings for training and test set\n",
    "train_embeddings = dataset_embeddings(model, train_loader, device)\n",
    "test_embeddings = dataset_embeddings(model, test_loader, device)\n",
    "\n",
    "print(train_embeddings.shape)\n",
    "print(test_embeddings.shape)"
   ]
  },
  {
   "cell_type": "code",
   "execution_count": null,
   "metadata": {},
   "outputs": [],
   "source": [
    "clf = LogisticRegression()\n",
    "\n",
    "# vanilla dataset: train the classifier on the original data\n",
    "clf.fit(train_data, train_target)\n",
    "vanilla_predictions = clf.predict(test_data)\n",
    "\n",
    "print(classification_report(test_target, vanilla_predictions))\n",
    "cm = confusion_matrix(test_target, vanilla_predictions)\n",
    "disp = ConfusionMatrixDisplay(confusion_matrix=cm)\n",
    "\n",
    "fig, ax = plt.subplots(figsize=(8, 8))\n",
    "disp.plot(ax=ax)"
   ]
  },
  {
   "cell_type": "code",
   "execution_count": null,
   "metadata": {},
   "outputs": [],
   "source": [
    "# embeddings dataset: train the classifier on the embeddings\n",
    "clf.fit(train_embeddings, train_target)\n",
    "vanilla_predictions = clf.predict(test_embeddings)\n",
    "\n",
    "print(classification_report(test_target, vanilla_predictions))\n",
    "cm = confusion_matrix(test_target, vanilla_predictions)\n",
    "disp = ConfusionMatrixDisplay(confusion_matrix=cm)\n",
    "\n",
    "fig, ax = plt.subplots(figsize=(8, 8))\n",
    "disp.plot(ax=ax)"
   ]
  },
  {
   "cell_type": "markdown",
   "metadata": {},
   "source": [
    "# Visualzie using t-sne "
   ]
  },
  {
   "cell_type": "code",
   "execution_count": null,
   "metadata": {},
   "outputs": [],
   "source": [
    "tsne = TSNE(n_components=2, learning_rate=\"auto\", init=\"pca\", perplexity=15)\n",
    "reduced = tsne.fit_transform(train_embeddings)\n",
    "positive = train_target == 1\n",
    "\n",
    "fig, ax = plt.subplots(figsize=(8, 8))\n",
    "\n",
    "ax.scatter(reduced[positive, 0], reduced[positive, 1], label=\"positive\")\n",
    "ax.scatter(reduced[~positive, 0], reduced[~positive, 1], label=\"negative\")\n",
    "plt.legend()"
   ]
  },
  {
   "cell_type": "code",
   "execution_count": null,
   "metadata": {},
   "outputs": [],
   "source": []
  }
 ],
 "metadata": {
  "kernelspec": {
   "display_name": "Python 3 (ipykernel)",
   "language": "python",
   "name": "python3"
  },
  "language_info": {
   "codemirror_mode": {
    "name": "ipython",
    "version": 3
   },
   "file_extension": ".py",
   "mimetype": "text/x-python",
   "name": "python",
   "nbconvert_exporter": "python",
   "pygments_lexer": "ipython3",
   "version": "3.8.16"
  },
  "vscode": {
   "interpreter": {
    "hash": "c6f9f5a3811a03e662921c74ed1d00f88796bf20e69187cb766d7acffcc397b8"
   }
  }
 },
 "nbformat": 4,
 "nbformat_minor": 2
}
